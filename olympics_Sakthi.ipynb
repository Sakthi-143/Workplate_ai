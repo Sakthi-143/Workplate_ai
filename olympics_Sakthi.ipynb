{
 "cells": [
  {
   "cell_type": "code",
   "execution_count": 1,
   "id": "a69107f5",
   "metadata": {},
   "outputs": [],
   "source": [
    "import pandas as pd\n",
    "import numpy as np\n",
    "import matplotlib.pyplot as plt\n",
    "from sklearn.linear_model import LinearRegression\n",
    "from sklearn.cluster import KMeans\n",
    "from sklearn.decomposition import PCA\n",
    "from sklearn.preprocessing import StandardScaler\n",
    "#from google.colab import files  # For Google Colab file upload\n",
    "import io"
   ]
  },
  {
   "cell_type": "code",
   "execution_count": 2,
   "id": "b6e0cf56",
   "metadata": {},
   "outputs": [
    {
     "ename": "SyntaxError",
     "evalue": "incomplete input (3262364447.py, line 17)",
     "output_type": "error",
     "traceback": [
      "\u001b[1;36m  Cell \u001b[1;32mIn[2], line 17\u001b[1;36m\u001b[0m\n\u001b[1;33m    raise ValueError(f\"Unsupported file format: {file_name}\")\u001b[0m\n\u001b[1;37m                                                             ^\u001b[0m\n\u001b[1;31mSyntaxError\u001b[0m\u001b[1;31m:\u001b[0m incomplete input\n"
     ]
    }
   ],
   "source": [
    "# Function to load data from various sources\n",
    "def load_data():\n",
    "    try:\n",
    "        # For Google Colab\n",
    "        uploaded = files.upload()\n",
    "        file_name = list(uploaded.keys())[0]\n",
    "        file_content = uploaded[file_name]\n",
    "        \n",
    "        # Determine file type and read accordingly\n",
    "        if file_name.endswith('.csv'):\n",
    "            return pd.read_csv(io.BytesIO(file_content))\n",
    "        elif file_name.endswith('.json'):\n",
    "            return pd.read_json(io.BytesIO(file_content))\n",
    "        elif file_name.endswith(('.xlsx', '.xls')):\n",
    "            return pd.read_excel(io.BytesIO(file_content))\n",
    "        else:\n",
    "            raise ValueError(f\"Unsupported file format: {file_name}\")"
   ]
  },
  {
   "cell_type": "code",
   "execution_count": 2,
   "id": "22f083ff",
   "metadata": {},
   "outputs": [],
   "source": [
    "def load_data():\n",
    "    try:\n",
    "        # For Jupyter Notebook (local environment)\n",
    "        file_path = input(\"Enter the path to your dataset: \")\n",
    "        file_extension = file_path.split('.')[-1].lower()\n",
    "        \n",
    "        if file_extension == 'csv':\n",
    "            return pd.read_csv(file_path)\n",
    "        elif file_extension == 'json':\n",
    "            return pd.read_json(file_path)\n",
    "        elif file_extension in ['xlsx', 'xls']:\n",
    "            return pd.read_excel(file_path)\n",
    "        else:\n",
    "            raise ValueError(f\"Unsupported file format: {file_extension}\")\n",
    "    \n",
    "    except FileNotFoundError:\n",
    "        print(f\"Error: The file at {file_path} was not found.\")\n",
    "    except ValueError as ve:\n",
    "        print(ve)\n",
    "    except Exception as e:\n",
    "        print(f\"An error occurred: {e}\")\n"
   ]
  },
  {
   "cell_type": "code",
   "execution_count": 3,
   "id": "f9d7bf24",
   "metadata": {},
   "outputs": [],
   "source": [
    "def clean_data(data):\n",
    "    return data.dropna()"
   ]
  },
  {
   "cell_type": "code",
   "execution_count": 4,
   "id": "20e3dff9",
   "metadata": {},
   "outputs": [],
   "source": [
    "def linear_regression(data, x_column, y_column):\n",
    "    X = data[[x_column]]\n",
    "    y = data[y_column]\n",
    "    model = LinearRegression()\n",
    "    model.fit(X, y)\n",
    "    predictions = model.predict(X)\n",
    "    return model, predictions"
   ]
  },
  {
   "cell_type": "code",
   "execution_count": 5,
   "id": "79576b60",
   "metadata": {},
   "outputs": [],
   "source": [
    "def kmeans_clustering(data, columns, n_clusters=3):\n",
    "    X = data[columns]\n",
    "    kmeans = KMeans(n_clusters=n_clusters, random_state=42)\n",
    "    return kmeans.fit_predict(X)"
   ]
  },
  {
   "cell_type": "code",
   "execution_count": 6,
   "id": "eef42cd0",
   "metadata": {},
   "outputs": [],
   "source": [
    "def pca_analysis(data, columns, n_components=2):\n",
    "    X = data[columns]\n",
    "    scaler = StandardScaler()\n",
    "    X_scaled = scaler.fit_transform(X)\n",
    "    pca = PCA(n_components=n_components)\n",
    "    return pca.fit_transform(X_scaled)"
   ]
  },
  {
   "cell_type": "code",
   "execution_count": 7,
   "id": "6cf69902",
   "metadata": {},
   "outputs": [],
   "source": [
    "def generate_report(data):\n",
    "    return data.describe()"
   ]
  },
  {
   "cell_type": "code",
   "execution_count": 8,
   "id": "74aa6bd1",
   "metadata": {},
   "outputs": [],
   "source": [
    "def plot_data(data, x_column, y_column, predictions):\n",
    "    plt.figure(figsize=(10, 6))\n",
    "    plt.scatter(data[x_column], data[y_column], color='blue', label='Actual')\n",
    "    plt.plot(data[x_column], predictions, color='red', label='Predicted')\n",
    "    plt.xlabel(x_column)\n",
    "    plt.ylabel(y_column)\n",
    "    plt.title(f'{y_column} vs {x_column}')\n",
    "    plt.legend()\n",
    "    plt.show()"
   ]
  },
  {
   "cell_type": "code",
   "execution_count": 9,
   "id": "401b820b",
   "metadata": {},
   "outputs": [],
   "source": [
    "# Main analysis function\n",
    "def analyze_olympic_data():\n",
    "    print(\"Olympic Data Analysis Tool\")\n",
    "    "
   ]
  },
  {
   "cell_type": "code",
   "execution_count": 12,
   "id": "cf43ab2c",
   "metadata": {},
   "outputs": [
    {
     "name": "stdout",
     "output_type": "stream",
     "text": [
      "Enter the path to your dataset: C:\\Users\\Sakthi\\olympics2024.csv\n",
      "\n",
      "Data loaded successfully. Shape: (91, 7)\n",
      "\n",
      "Columns: ['Rank', 'Country', 'Country Code', 'Gold', 'Silver', 'Bronze', 'Total']\n"
     ]
    }
   ],
   "source": [
    "# Load and clean data\n",
    "data = load_data()\n",
    "data = clean_data(data)\n",
    "    \n",
    "print(\"\\nData loaded successfully. Shape:\", data.shape)\n",
    "print(\"\\nColumns:\", data.columns.tolist())"
   ]
  },
  {
   "cell_type": "code",
   "execution_count": 13,
   "id": "f34549c5",
   "metadata": {},
   "outputs": [],
   "source": [
    "def main():\n",
    "    while True:\n",
    "        print(\"\\nChoose an analysis option:\")\n",
    "        print(\"1. Linear Regression\")\n",
    "        print(\"2. K-Means Clustering\")\n",
    "        print(\"3. PCA Analysis\")\n",
    "        print(\"4. Generate Report\")\n",
    "        print(\"5. Exit\")\n",
    "        \n",
    "        choice = input(\"Enter your choice (1-5): \")\n",
    "        \n",
    "        if choice == '1':\n",
    "            x_column = input(\"Enter the independent variable column name: \")\n",
    "            y_column = input(\"Enter the dependent variable column name: \")\n",
    "            model, predictions = linear_regression(data, x_column, y_column)\n",
    "            print(f\"\\nCoefficient: {model.coef_[0]}, Intercept: {model.intercept_}\")\n",
    "            plot_data(data, x_column, y_column, predictions)\n",
    "        \n",
    "        elif choice == '2':\n",
    "            columns = input(\"Enter column names for clustering (comma-separated): \").split(',')\n",
    "            n_clusters = int(input(\"Enter the number of clusters: \"))\n",
    "            labels = kmeans_clustering(data, columns, n_clusters)\n",
    "            data['Cluster'] = labels\n",
    "            print(\"\\nClustering complete. 'Cluster' column added to the dataset.\")\n",
    "            print(data[['Cluster'] + columns].head())\n",
    "        \n",
    "        elif choice == '3':\n",
    "            columns = input(\"Enter column names for PCA (comma-separated): \").split(',')\n",
    "            pca_result = pca_analysis(data, columns)\n",
    "            data['PCA1'] = pca_result[:, 0]\n",
    "            data['PCA2'] = pca_result[:, 1]\n",
    "            print(\"\\nPCA complete. 'PCA1' and 'PCA2' columns added to the dataset.\")\n",
    "            print(data[['PCA1', 'PCA2'] + columns].head())\n",
    "            \n",
    "        # Visualize PCA results\n",
    "            plt.figure(figsize=(10, 6))\n",
    "            plt.scatter(data['PCA1'], data['PCA2'])\n",
    "            plt.xlabel('PCA1')\n",
    "            plt.ylabel('PCA2')\n",
    "            plt.title('PCA Results')\n",
    "            plt.show()\n",
    "        elif choice == '4':\n",
    "            report = generate_report(data)\n",
    "            print(\"\\nDescriptive Statistics Report:\")\n",
    "            display(report)  # Use display for better formatting in notebooks\n",
    "        \n",
    "        elif choice == '5':\n",
    "            print(\"Exiting the program. Goodbye!\")\n",
    "            break\n",
    "        \n",
    "        else:\n",
    "            print(\"Invalid choice. Please try again.\")    "
   ]
  },
  {
   "cell_type": "code",
   "execution_count": 15,
   "id": "da89ffdf",
   "metadata": {},
   "outputs": [
    {
     "name": "stdout",
     "output_type": "stream",
     "text": [
      "\n",
      "Choose an analysis option:\n",
      "1. Linear Regression\n",
      "2. K-Means Clustering\n",
      "3. PCA Analysis\n",
      "4. Generate Report\n",
      "5. Exit\n",
      "Enter your choice (1-5): 5\n",
      "Exiting the program. Goodbye!\n"
     ]
    }
   ],
   "source": [
    "if __name__ == \"__main__\":\n",
    "    main()"
   ]
  },
  {
   "cell_type": "code",
   "execution_count": null,
   "id": "cb2ae16b",
   "metadata": {},
   "outputs": [],
   "source": [
    "# Run the analysis\n",
    "analyze_olympic_data()"
   ]
  }
 ],
 "metadata": {
  "kernelspec": {
   "display_name": "Python 3 (ipykernel)",
   "language": "python",
   "name": "python3"
  },
  "language_info": {
   "codemirror_mode": {
    "name": "ipython",
    "version": 3
   },
   "file_extension": ".py",
   "mimetype": "text/x-python",
   "name": "python",
   "nbconvert_exporter": "python",
   "pygments_lexer": "ipython3",
   "version": "3.11.5"
  }
 },
 "nbformat": 4,
 "nbformat_minor": 5
}
